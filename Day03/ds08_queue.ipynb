{
 "cells": [
  {
   "attachments": {},
   "cell_type": "markdown",
   "metadata": {},
   "source": [
    "## 큐 학습"
   ]
  },
  {
   "cell_type": "code",
   "execution_count": 6,
   "metadata": {},
   "outputs": [],
   "source": [
    "queue = [None for _ in range(5)]\n",
    "\n",
    "front, rear = -1, -1"
   ]
  },
  {
   "attachments": {},
   "cell_type": "markdown",
   "metadata": {},
   "source": [
    "### 데이터 삽입(enQueue)"
   ]
  },
  {
   "cell_type": "code",
   "execution_count": 7,
   "metadata": {},
   "outputs": [],
   "source": [
    "rear += 1\n",
    "queue[rear] = '화사'\n",
    "rear += 1\n",
    "queue[rear] = '솔라'\n",
    "rear += 1\n",
    "queue[rear] = '문별'"
   ]
  },
  {
   "cell_type": "code",
   "execution_count": 10,
   "metadata": {},
   "outputs": [
    {
     "name": "stdout",
     "output_type": "stream",
     "text": [
      "큐상태=====\n",
      "[출구] <- 화사 <- 솔라 <- 문별 <- None <- None <- [입구]\n"
     ]
    }
   ],
   "source": [
    "print('-----큐상태-----')\n",
    "print('[출구]', end=' <- ')\n",
    "for i in range(0, len(queue)):\n",
    "    print(queue[i], end=' <- ')\n",
    "print('[입구]')"
   ]
  },
  {
   "cell_type": "code",
   "execution_count": 12,
   "metadata": {},
   "outputs": [
    {
     "name": "stdout",
     "output_type": "stream",
     "text": [
      "deQueue -> 솔라\n"
     ]
    }
   ],
   "source": [
    "front += 1\n",
    "data = queue[front]\n",
    "queue[front] = None\n",
    "print(f'deQueue -> {data}')"
   ]
  },
  {
   "cell_type": "code",
   "execution_count": 14,
   "metadata": {},
   "outputs": [
    {
     "name": "stdout",
     "output_type": "stream",
     "text": [
      "-----큐상태-----\n",
      "[출구] <- None <- None <- 문별 <- None <- None <- [입구]\n"
     ]
    }
   ],
   "source": [
    "print('-----큐상태-----')\n",
    "print('[출구]', end=' <- ')\n",
    "for i in range(0, len(queue)):\n",
    "    print(queue[i], end=' <- ')\n",
    "print('[입구]')"
   ]
  },
  {
   "cell_type": "code",
   "execution_count": 15,
   "metadata": {},
   "outputs": [
    {
     "name": "stdout",
     "output_type": "stream",
     "text": [
      "deQueue -> 문별\n",
      "deQueue -> None\n",
      "-----큐상태-----\n",
      "[출구] <- None <- None <- None <- None <- None <- [입구]\n"
     ]
    }
   ],
   "source": [
    "front += 1\n",
    "data = queue[front]\n",
    "queue[front] = None\n",
    "print(f'deQueue -> {data}')\n",
    "\n",
    "front += 1\n",
    "data = queue[front]\n",
    "queue[front] = None\n",
    "print(f'deQueue -> {data}')\n",
    "\n",
    "print('-----큐상태-----')\n",
    "print('[출구]', end=' <- ')\n",
    "for i in range(0, len(queue)):\n",
    "    print(queue[i], end=' <- ')\n",
    "print('[입구]')"
   ]
  }
 ],
 "metadata": {
  "kernelspec": {
   "display_name": "Python 3",
   "language": "python",
   "name": "python3"
  },
  "language_info": {
   "codemirror_mode": {
    "name": "ipython",
    "version": 3
   },
   "file_extension": ".py",
   "mimetype": "text/x-python",
   "name": "python",
   "nbconvert_exporter": "python",
   "pygments_lexer": "ipython3",
   "version": "3.11.1"
  },
  "orig_nbformat": 4,
  "vscode": {
   "interpreter": {
    "hash": "a3d8f53f1429d27b792a3789224562ddd32c1395c9a9cfbb17b3c19c3b9a493d"
   }
  }
 },
 "nbformat": 4,
 "nbformat_minor": 2
}
