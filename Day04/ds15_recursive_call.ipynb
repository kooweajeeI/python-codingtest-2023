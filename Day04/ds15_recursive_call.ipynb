{
 "cells": [
  {
   "attachments": {},
   "cell_type": "markdown",
   "metadata": {},
   "source": [
    "## 재귀호출 (Recursive Call)"
   ]
  },
  {
   "cell_type": "code",
   "execution_count": 1,
   "metadata": {},
   "outputs": [],
   "source": [
    "count = 10\n",
    "def openBox():\n",
    "    global count\n",
    "    print('종이상자를 엽니다.')\n",
    "    count -= 1\n",
    "    if count == 0:\n",
    "        print('반지를 넣고 반환합니다.')\n",
    "        return\n",
    "    openBox()       # 자기자신을 다시 호출\n",
    "    print('종이상자를 닫습니다.')"
   ]
  },
  {
   "cell_type": "code",
   "execution_count": 2,
   "metadata": {},
   "outputs": [
    {
     "name": "stdout",
     "output_type": "stream",
     "text": [
      "종이상자를 엽니다.\n",
      "종이상자를 엽니다.\n",
      "종이상자를 엽니다.\n",
      "종이상자를 엽니다.\n",
      "종이상자를 엽니다.\n",
      "종이상자를 엽니다.\n",
      "종이상자를 엽니다.\n",
      "종이상자를 엽니다.\n",
      "종이상자를 엽니다.\n",
      "종이상자를 엽니다.\n",
      "반지를 넣고 반환합니다.\n",
      "종이상자를 닫습니다.\n",
      "종이상자를 닫습니다.\n",
      "종이상자를 닫습니다.\n",
      "종이상자를 닫습니다.\n",
      "종이상자를 닫습니다.\n",
      "종이상자를 닫습니다.\n",
      "종이상자를 닫습니다.\n",
      "종이상자를 닫습니다.\n",
      "종이상자를 닫습니다.\n"
     ]
    }
   ],
   "source": [
    "openBox()"
   ]
  },
  {
   "attachments": {},
   "cell_type": "markdown",
   "metadata": {},
   "source": [
    "## 재귀호출 하지 않고 반복문으로 계산"
   ]
  },
  {
   "cell_type": "code",
   "execution_count": 3,
   "metadata": {},
   "outputs": [
    {
     "name": "stdout",
     "output_type": "stream",
     "text": [
      "10+9+8+7+...+3+2+1 =  55\n"
     ]
    }
   ],
   "source": [
    "sumValue = 0\n",
    "\n",
    "for n in range(10, 0, -1):\n",
    "    sumValue += n\n",
    "\n",
    "print('10+9+8+7+...+3+2+1 = ', sumValue)"
   ]
  },
  {
   "attachments": {},
   "cell_type": "markdown",
   "metadata": {},
   "source": [
    "### 재귀호출로 덧셈"
   ]
  },
  {
   "cell_type": "code",
   "execution_count": 4,
   "metadata": {},
   "outputs": [
    {
     "name": "stdout",
     "output_type": "stream",
     "text": [
      "55\n"
     ]
    }
   ],
   "source": [
    "def addNumber(num):\n",
    "    if num <= 1:\n",
    "        return 1\n",
    "    else:\n",
    "        return num + addNumber(num-1)\n",
    "    \n",
    "print(addNumber(10))\n"
   ]
  },
  {
   "attachments": {},
   "cell_type": "markdown",
   "metadata": {},
   "source": [
    "### 팩토리얼 반복문"
   ]
  },
  {
   "cell_type": "code",
   "execution_count": 5,
   "metadata": {},
   "outputs": [
    {
     "name": "stdout",
     "output_type": "stream",
     "text": [
      "10x9x8x7...x3x2x1= 3628800\n"
     ]
    }
   ],
   "source": [
    "factValue = 1\n",
    "for n in range(10, 0, -1):\n",
    "    factValue *= n\n",
    "\n",
    "print('10x9x8x7...x3x2x1=', factValue)"
   ]
  },
  {
   "attachments": {},
   "cell_type": "markdown",
   "metadata": {},
   "source": [
    "### 팩토리얼 재귀호출"
   ]
  },
  {
   "cell_type": "code",
   "execution_count": 6,
   "metadata": {},
   "outputs": [
    {
     "name": "stdout",
     "output_type": "stream",
     "text": [
      "10! = 3628800\n"
     ]
    }
   ],
   "source": [
    "def factorial(num):\n",
    "    if num <= 1:\n",
    "        return 1\n",
    "    else:\n",
    "        return num * factorial(num-1)\n",
    "\n",
    "print('10! =', factorial(10))"
   ]
  },
  {
   "attachments": {},
   "cell_type": "markdown",
   "metadata": {},
   "source": [
    "우주선 발사"
   ]
  },
  {
   "cell_type": "code",
   "execution_count": 7,
   "metadata": {},
   "outputs": [
    {
     "name": "stdout",
     "output_type": "stream",
     "text": [
      "10\n",
      "9\n",
      "8\n",
      "7\n",
      "6\n",
      "5\n",
      "4\n",
      "3\n",
      "2\n",
      "1\n",
      "우주선 발사!!\n"
     ]
    }
   ],
   "source": [
    "import time\n",
    "def countdown(n):\n",
    "    if n == 0:\n",
    "        print('우주선 발사!!')\n",
    "    else:\n",
    "        print(n)\n",
    "        time.sleep(1)\n",
    "        countdown(n-1)\n",
    "\n",
    "\n",
    "countdown(10)"
   ]
  },
  {
   "cell_type": "code",
   "execution_count": 8,
   "metadata": {},
   "outputs": [
    {
     "name": "stdout",
     "output_type": "stream",
     "text": [
      "★\n",
      "★★\n",
      "★★★\n",
      "★★★★\n",
      "★★★★★\n"
     ]
    }
   ],
   "source": [
    "def printStar(n):\n",
    "    if n > 0 :\n",
    "        printStar(n-1)\n",
    "        print('★' * n)\n",
    "\n",
    "printStar(5)"
   ]
  },
  {
   "attachments": {},
   "cell_type": "markdown",
   "metadata": {},
   "source": [
    "### 구구단 재귀호출"
   ]
  },
  {
   "cell_type": "code",
   "execution_count": 11,
   "metadata": {},
   "outputs": [
    {
     "name": "stdout",
     "output_type": "stream",
     "text": [
      "\n",
      "2단 시작~!@#$%^&*)(\n",
      "2 x 1 =  2\n",
      "2 x 2 =  4\n",
      "2 x 3 =  6\n",
      "2 x 4 =  8\n",
      "2 x 5 = 10\n",
      "2 x 6 = 12\n",
      "2 x 7 = 14\n",
      "2 x 8 = 16\n",
      "2 x 9 = 18\n",
      "\n",
      "3단 시작~!@#$%^&*)(\n",
      "3 x 1 =  3\n",
      "3 x 2 =  6\n",
      "3 x 3 =  9\n",
      "3 x 4 = 12\n",
      "3 x 5 = 15\n",
      "3 x 6 = 18\n",
      "3 x 7 = 21\n",
      "3 x 8 = 24\n",
      "3 x 9 = 27\n",
      "\n",
      "4단 시작~!@#$%^&*)(\n",
      "4 x 1 =  4\n",
      "4 x 2 =  8\n",
      "4 x 3 = 12\n",
      "4 x 4 = 16\n",
      "4 x 5 = 20\n",
      "4 x 6 = 24\n",
      "4 x 7 = 28\n",
      "4 x 8 = 32\n",
      "4 x 9 = 36\n",
      "\n",
      "5단 시작~!@#$%^&*)(\n",
      "5 x 1 =  5\n",
      "5 x 2 = 10\n",
      "5 x 3 = 15\n",
      "5 x 4 = 20\n",
      "5 x 5 = 25\n",
      "5 x 6 = 30\n",
      "5 x 7 = 35\n",
      "5 x 8 = 40\n",
      "5 x 9 = 45\n",
      "\n",
      "6단 시작~!@#$%^&*)(\n",
      "6 x 1 =  6\n",
      "6 x 2 = 12\n",
      "6 x 3 = 18\n",
      "6 x 4 = 24\n",
      "6 x 5 = 30\n",
      "6 x 6 = 36\n",
      "6 x 7 = 42\n",
      "6 x 8 = 48\n",
      "6 x 9 = 54\n",
      "\n",
      "7단 시작~!@#$%^&*)(\n",
      "7 x 1 =  7\n",
      "7 x 2 = 14\n",
      "7 x 3 = 21\n",
      "7 x 4 = 28\n",
      "7 x 5 = 35\n",
      "7 x 6 = 42\n",
      "7 x 7 = 49\n",
      "7 x 8 = 56\n",
      "7 x 9 = 63\n",
      "\n",
      "8단 시작~!@#$%^&*)(\n",
      "8 x 1 =  8\n",
      "8 x 2 = 16\n",
      "8 x 3 = 24\n",
      "8 x 4 = 32\n",
      "8 x 5 = 40\n",
      "8 x 6 = 48\n",
      "8 x 7 = 56\n",
      "8 x 8 = 64\n",
      "8 x 9 = 72\n",
      "\n",
      "9단 시작~!@#$%^&*)(\n",
      "9 x 1 =  9\n",
      "9 x 2 = 18\n",
      "9 x 3 = 27\n",
      "9 x 4 = 36\n",
      "9 x 5 = 45\n",
      "9 x 6 = 54\n",
      "9 x 7 = 63\n",
      "9 x 8 = 72\n",
      "9 x 9 = 81\n"
     ]
    }
   ],
   "source": [
    "def gugudan(dan, num):\n",
    "    print(f'{dan} x {num} = {dan * num}')\n",
    "    if num < 9:\n",
    "        gugudan(dan, num+1)\n",
    "\n",
    "for dan in range(2, 10):\n",
    "    print()\n",
    "    print(f'{dan}단 시작~!@#$%^&*)(')\n",
    "    gugudan(dan, 1)\n"
   ]
  },
  {
   "attachments": {},
   "cell_type": "markdown",
   "metadata": {},
   "source": [
    "### N제곱"
   ]
  },
  {
   "cell_type": "code",
   "execution_count": 12,
   "metadata": {},
   "outputs": [
    {
     "name": "stdout",
     "output_type": "stream",
     "text": [
      "2^10\n",
      "  2x2^10-1\n",
      "   2x2^9-1\n",
      "    2x2^8-1\n",
      "     2x2^7-1\n",
      "      2x2^6-1\n",
      "       2x2^5-1\n",
      "        2x2^4-1\n",
      "         2x2^3-1\n",
      "          2x2^2-1\n",
      "           2x2^1-1\n",
      "답 -->  1024\n"
     ]
    }
   ],
   "source": [
    "tab = ''\n",
    "def pow(x, n):\n",
    "    global tab\n",
    "    tab += ' '\n",
    "    if n == 0:\n",
    "        return 1\n",
    "    print(tab, f'{x}x{x}^{n}-{1}')\n",
    "    return x * pow(x, n-1)\n",
    "\n",
    "print('2^10')\n",
    "print('답 --> ', pow(2, 10))"
   ]
  },
  {
   "attachments": {},
   "cell_type": "markdown",
   "metadata": {},
   "source": [
    "### 피보나치 수열"
   ]
  },
  {
   "cell_type": "code",
   "execution_count": 14,
   "metadata": {},
   "outputs": [
    {
     "name": "stdout",
     "output_type": "stream",
     "text": [
      "피보나치 수 --> 0 1 1 2 3 5 8 13 21 34 "
     ]
    }
   ],
   "source": [
    "def fibonacci(n):\n",
    "    if n == 0:\n",
    "        return 0\n",
    "    elif n == 1:\n",
    "        return 1\n",
    "    else:\n",
    "        return fibonacci(n-1) + fibonacci(n-2)\n",
    "\n",
    "\n",
    "print('피보나치 수 --> 0 1', end=' ')\n",
    "\n",
    "for i in range(2, 10):\n",
    "    print(fibonacci(i), end=' ')\n"
   ]
  },
  {
   "attachments": {},
   "cell_type": "markdown",
   "metadata": {},
   "source": [
    "### 회문 여부"
   ]
  },
  {
   "cell_type": "code",
   "execution_count": 15,
   "metadata": {},
   "outputs": [],
   "source": [
    "def palindrome(pStr):       # kayak\n",
    "    if len(pStr) <= 1:\n",
    "        return True\n",
    "\n",
    "    if pStr[0] != pStr[-1]:  # k == k\n",
    "        return False\n",
    "\n",
    "    else:\n",
    "        return palindrome(pStr[1:len(pStr)-1])"
   ]
  },
  {
   "cell_type": "code",
   "execution_count": 21,
   "metadata": {},
   "outputs": [],
   "source": [
    "strAry = [\n",
    "    'reaver', 'kayak', 'Borrow or rob', '주유소의 소유주', '야 너 이번 주 주번이 너야', '살금 살금'\n",
    "]\n"
   ]
  },
  {
   "cell_type": "code",
   "execution_count": 22,
   "metadata": {},
   "outputs": [
    {
     "name": "stdout",
     "output_type": "stream",
     "text": [
      "reaver--> 회문이 아닙니다.\n",
      "kayak--> 회문입니다.\n",
      "Borrow or rob--> 회문입니다.\n",
      "주유소의 소유주--> 회문입니다.\n",
      "야 너 이번 주 주번이 너야--> 회문입니다.\n",
      "살금 살금--> 회문이 아닙니다.\n"
     ]
    }
   ],
   "source": [
    "for testStr in strAry:\n",
    "    print(testStr, end='--> ')\n",
    "    testStr = testStr.lower().replace(' ', '')  # 영어대문자 x, 공백 x\n",
    "    if palindrome(testStr) == True:\n",
    "        print('회문입니다.')\n",
    "    else:\n",
    "        print('회문이 아닙니다.')"
   ]
  }
 ],
 "metadata": {
  "kernelspec": {
   "display_name": "Python 3",
   "language": "python",
   "name": "python3"
  },
  "language_info": {
   "codemirror_mode": {
    "name": "ipython",
    "version": 3
   },
   "file_extension": ".py",
   "mimetype": "text/x-python",
   "name": "python",
   "nbconvert_exporter": "python",
   "pygments_lexer": "ipython3",
   "version": "3.11.1"
  },
  "orig_nbformat": 4,
  "vscode": {
   "interpreter": {
    "hash": "a3d8f53f1429d27b792a3789224562ddd32c1395c9a9cfbb17b3c19c3b9a493d"
   }
  }
 },
 "nbformat": 4,
 "nbformat_minor": 2
}
